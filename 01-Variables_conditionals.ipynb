{
 "cells": [
  {
   "cell_type": "markdown",
   "metadata": {},
   "source": [
    "Привет!\n",
    "-----------------\n",
    "\n",
    "Это Jupyter Notebook. Если вы видите это - значит вы смогли запустить Jupyter.\n",
    "Jupyter Notebook это файл в котором хранится \"рабочая сессия\". Здесь может быть записан код,\n",
    "хранятся результаты последних выполненных команд, может быть написан текст, подобный этому,\n",
    "или нарисованы графики\n",
    "\n",
    "Серые прямоугольники ниже называются \"ячейки\". В ячейке хранится какой-то код.\n",
    "\n",
    "Чтобы запустить код в ячейке - нажмите CTR+ENTER, либо SHIFT+ENTER.\n",
    "\n",
    "Чтобы добавить ячейку, нажмите \"плюс\" вверху экрана, либо SHIFT+ENTER под самой нижней ячейкой"
   ]
  },
  {
   "cell_type": "markdown",
   "metadata": {},
   "source": [
    "Занятие 1\n",
    "=========\n",
    "\n",
    "В этом занятии мы изучили\n",
    "  - Print - функция для печати на экран\n",
    "  - Арифмитические операции над числами и строками\n",
    "  - Переменные\n",
    "  - Логические выражения\n",
    "  - Условный оператор if\n",
    "  - Условный оператор else"
   ]
  },
  {
   "cell_type": "markdown",
   "metadata": {},
   "source": [
    "# ☯ Дзен ☯"
   ]
  },
  {
   "cell_type": "code",
   "execution_count": null,
   "metadata": {},
   "outputs": [],
   "source": [
    "import this"
   ]
  },
  {
   "cell_type": "markdown",
   "metadata": {},
   "source": [
    "Функция print()\n",
    "=============\n",
    "print() позваляет вывести на экран что-либо. Это может быть значение переменной, результат какой-либо операции или первые столбцы таблицы"
   ]
  },
  {
   "cell_type": "code",
   "execution_count": null,
   "metadata": {},
   "outputs": [],
   "source": [
    "print(4)"
   ]
  },
  {
   "cell_type": "code",
   "execution_count": null,
   "metadata": {},
   "outputs": [],
   "source": [
    "print(3 + 19)"
   ]
  },
  {
   "cell_type": "code",
   "execution_count": null,
   "metadata": {},
   "outputs": [],
   "source": [
    "print('Это строка')"
   ]
  },
  {
   "cell_type": "code",
   "execution_count": null,
   "metadata": {},
   "outputs": [],
   "source": [
    "print(\"Это тоже строка\")"
   ]
  },
  {
   "cell_type": "code",
   "execution_count": null,
   "metadata": {},
   "outputs": [],
   "source": [
    "print('Строки можно ' + 'складывать')"
   ]
  },
  {
   "cell_type": "markdown",
   "metadata": {},
   "source": [
    "Арифметические операции\n",
    "===============\n",
    "Python3 поддерживает следующие математические операции:\n",
    "    - Сложение (+)\n",
    "    - Вычитание (-)\n",
    "    - Умножение (*)\n",
    "    - Деление (/)\n",
    "    - Деление нацело (дробный хвост отбрасывается) (//)\n",
    "    - Остаток от деления (%)\n",
    "    - Возведение в степень (**)\n",
    "    - И другие"
   ]
  },
  {
   "cell_type": "code",
   "execution_count": null,
   "metadata": {},
   "outputs": [],
   "source": [
    "1 + 2"
   ]
  },
  {
   "cell_type": "code",
   "execution_count": null,
   "metadata": {},
   "outputs": [],
   "source": [
    "1 - 2"
   ]
  },
  {
   "cell_type": "code",
   "execution_count": null,
   "metadata": {},
   "outputs": [],
   "source": [
    "5 * 5"
   ]
  },
  {
   "cell_type": "code",
   "execution_count": null,
   "metadata": {},
   "outputs": [],
   "source": [
    "10 / 3"
   ]
  },
  {
   "cell_type": "code",
   "execution_count": null,
   "metadata": {},
   "outputs": [],
   "source": [
    "10 // 3"
   ]
  },
  {
   "cell_type": "code",
   "execution_count": null,
   "metadata": {},
   "outputs": [],
   "source": [
    "10 % 3"
   ]
  },
  {
   "cell_type": "code",
   "execution_count": null,
   "metadata": {},
   "outputs": [],
   "source": [
    "10 ** 3"
   ]
  },
  {
   "cell_type": "markdown",
   "metadata": {},
   "source": [
    "Переменные\n",
    "===============\n",
    "\n",
    "Переменные - одно из фундаментальнейших понятий в программировании. Существует множество интерпретаций перменных\n",
    "\n",
    "Одна из них - думать о переменной как о неком \"ярлыке\" на ячейке памяти компьютера, в которой хранятся какие-либо данные: числа, символы и т.д.\n",
    "\n",
    "Чтобы создать переменную, нужно написать подобную строку:\n",
    "\n",
    "`apples = 5`\n",
    "\n",
    "Здесь apples - имя переменной, по которому мы, позже, будем обращаться к значению переменной, а 5 - значение, которое мы ей присвоили.\n",
    "\n",
    "Значение переменных можно выводить на экран с помощью print, производить арифметические операции над ними и много чего другого"
   ]
  },
  {
   "cell_type": "code",
   "execution_count": null,
   "metadata": {},
   "outputs": [],
   "source": [
    "apples = 5\n",
    "print(apples)"
   ]
  },
  {
   "cell_type": "code",
   "execution_count": null,
   "metadata": {},
   "outputs": [],
   "source": [
    "bananas = 3\n",
    "oranges = 4\n",
    "fruits = apples + bananas + oranges\n",
    "print(fruits)"
   ]
  },
  {
   "cell_type": "markdown",
   "metadata": {},
   "source": [
    "Логические выражения\n",
    "=============\n",
    "\n",
    "Логическое выражение - математическое выражение, которое может быть ложным (False) или истинным (True)\n",
    "\n",
    "В логических выражениях могут присутствовать переменные"
   ]
  },
  {
   "cell_type": "code",
   "execution_count": null,
   "metadata": {},
   "outputs": [],
   "source": [
    "3 < 5"
   ]
  },
  {
   "cell_type": "code",
   "execution_count": null,
   "metadata": {},
   "outputs": [],
   "source": [
    "5 == 3"
   ]
  },
  {
   "cell_type": "code",
   "execution_count": null,
   "metadata": {},
   "outputs": [],
   "source": [
    "5 != 3"
   ]
  },
  {
   "cell_type": "code",
   "execution_count": null,
   "metadata": {},
   "outputs": [],
   "source": [
    "3 < 5 and 3 == 5"
   ]
  },
  {
   "cell_type": "code",
   "execution_count": null,
   "metadata": {},
   "outputs": [],
   "source": [
    "3 < 5 or 3 == 5"
   ]
  },
  {
   "cell_type": "code",
   "execution_count": null,
   "metadata": {},
   "outputs": [],
   "source": [
    "x = 3\n",
    "x < 3 and x != 2"
   ]
  },
  {
   "cell_type": "code",
   "execution_count": null,
   "metadata": {},
   "outputs": [],
   "source": [
    "x < 20 and x % 2 == 0"
   ]
  },
  {
   "cell_type": "markdown",
   "metadata": {},
   "source": [
    "Условный оператор\n",
    "===============\n",
    "\n",
    "Чтобы выполнить какие-то команды только при выполнении какого-то условия, используется оператор `if`\n",
    "\n",
    "`if` + `логическое выражение` + `:`\n",
    "\n",
    "Блоки команд под `if` и подобными операторами, группируются по отступам (4 пробела)"
   ]
  },
  {
   "cell_type": "code",
   "execution_count": null,
   "metadata": {},
   "outputs": [],
   "source": [
    "x = 3\n",
    "if x == 3:\n",
    "    print('x is 3!')\n",
    "print('I am not in if block')"
   ]
  },
  {
   "cell_type": "markdown",
   "metadata": {},
   "source": [
    "Оператор `Else`\n",
    "================\n",
    "\n",
    "Когда мы хотим, чтобы при ложности нашего условия выполнялся какой-то другой блок команд, мы используем оператор else\n",
    "в паре с if"
   ]
  },
  {
   "cell_type": "code",
   "execution_count": null,
   "metadata": {},
   "outputs": [],
   "source": [
    "x = 3\n",
    "if x == 4:\n",
    "    print('x is 4')\n",
    "else:\n",
    "    print('x is not 4')\n",
    "    \n",
    "print('I am not in \"if\" block, nor in \"else\" block')"
   ]
  },
  {
   "cell_type": "markdown",
   "metadata": {},
   "source": [
    "# Пользовательский ввод"
   ]
  },
  {
   "cell_type": "markdown",
   "metadata": {},
   "source": [
    "Для того чтобы пользователь мог ввести какие-то данные в нашу программу, можно использовать функцию `input`"
   ]
  },
  {
   "cell_type": "code",
   "execution_count": null,
   "metadata": {},
   "outputs": [],
   "source": [
    "x = int(input()) # Обратите внимание! Введеные данные являются строкой\n",
    "if x == 4:\n",
    "    print('x is 4')\n",
    "else:\n",
    "    print('x is not 4')\n",
    "    \n",
    "print('I am not in \"if\" block, nor in \"else\" block')"
   ]
  },
  {
   "cell_type": "markdown",
   "metadata": {},
   "source": [
    ".\n",
    "\n",
    "\n",
    ".\n",
    "\n",
    ".\n",
    "\n",
    ".\n",
    "   "
   ]
  },
  {
   "cell_type": "markdown",
   "metadata": {},
   "source": [
    "Попробуйте сами!\n",
    "---------------------\n",
    "Попробуйте выполнить предложенные задания (это домашнее задание)"
   ]
  },
  {
   "cell_type": "markdown",
   "metadata": {},
   "source": [
    "Задание 1\n",
    "============\n",
    "\n",
    "В ячейке ниже задана переменная a. Ей присвоено значение 3\n",
    "\n",
    "Попробуйте добавить переменную b. Присвойте ей любое числовое значение.\n",
    "\n",
    "Выполните ячейку, напечатайте значение b"
   ]
  },
  {
   "cell_type": "code",
   "execution_count": null,
   "metadata": {},
   "outputs": [],
   "source": [
    "a = 3\n",
    "print(a)"
   ]
  },
  {
   "cell_type": "code",
   "execution_count": null,
   "metadata": {},
   "outputs": [],
   "source": [
    "#Добавьте здесь переменную b"
   ]
  },
  {
   "cell_type": "markdown",
   "metadata": {},
   "source": [
    "Дополните список математических выражений остальными мат. операциями из списка:\n",
    "    - +\n",
    "    - -\n",
    "    - /\n",
    "    - //\n",
    "    - %\n",
    "    - *\n",
    "    - **\n",
    "    \n",
    "Выполните ячейку, посмотрите на результаты"
   ]
  },
  {
   "cell_type": "code",
   "execution_count": null,
   "metadata": {},
   "outputs": [],
   "source": [
    "print(a + b)"
   ]
  },
  {
   "cell_type": "markdown",
   "metadata": {},
   "source": [
    "Задание 2\n",
    "===========\n",
    "\n",
    "Заданы a и b, с помощью условного оператора, выведите максимальное из них"
   ]
  },
  {
   "cell_type": "code",
   "execution_count": null,
   "metadata": {},
   "outputs": [],
   "source": [
    "a = 3\n",
    "b = 100000"
   ]
  },
  {
   "cell_type": "code",
   "execution_count": null,
   "metadata": {},
   "outputs": [],
   "source": [
    "#Напишите программу здесь"
   ]
  },
  {
   "cell_type": "markdown",
   "metadata": {},
   "source": [
    "Задание 3\n",
    "===========\n",
    "В a, b хранятся числа. В c хранится символ операции. выведите a в операции \"c\" с b"
   ]
  },
  {
   "cell_type": "code",
   "execution_count": null,
   "metadata": {},
   "outputs": [],
   "source": [
    "#Не пугайтесь этих строк. Выполните эту ячейку, и в a,b,c у вас будут случайные тестовые значения\n",
    "#Кстати, строки которые начинаются с решетки - комментарии, это просто текст\n",
    "\n",
    "import random\n",
    "\n",
    "a = random.randint(1, 100)\n",
    "b = random.randint(1, 100)\n",
    "c = random.choice(['+', '-', '/', '*'])\n",
    "\n",
    "print('a is ', a)\n",
    "print('b is ', b)\n",
    "print('c is ', c)"
   ]
  },
  {
   "cell_type": "code",
   "execution_count": null,
   "metadata": {},
   "outputs": [],
   "source": [
    "#Напишите программу здесь\n",
    "\n",
    "if c == '+':\n",
    "    print(a + b)\n",
    "elif c == '-':\n",
    "    print(a - b)\n",
    "elif c == '*':\n",
    "    print(a * b)\n",
    "elif c == '/':\n",
    "    print(a / b)"
   ]
  },
  {
   "cell_type": "markdown",
   "metadata": {},
   "source": [
    "# Задание 4*\n",
    "\n",
    "Пользователь вводит числа a, b, c. Найдите корни уравнения ax^2 + bx + c = 0 (если их нет, выведите сообщение \"Корней нет!\")"
   ]
  },
  {
   "cell_type": "code",
   "execution_count": null,
   "metadata": {},
   "outputs": [],
   "source": [
    "a = 1\n",
    "b = 2\n",
    "c = 1"
   ]
  },
  {
   "cell_type": "code",
   "execution_count": null,
   "metadata": {},
   "outputs": [],
   "source": [
    "d = b * b - 4 * a * c\n",
    "print(d)"
   ]
  },
  {
   "cell_type": "code",
   "execution_count": null,
   "metadata": {},
   "outputs": [],
   "source": [
    "import math\n",
    "math.sqrt(d)"
   ]
  },
  {
   "cell_type": "code",
   "execution_count": null,
   "metadata": {},
   "outputs": [],
   "source": [
    "if d > 0:\n",
    "    print('x1 =', -b + d ** 0.5 / (2 * a))\n",
    "    print('x2')\n",
    "elif d == 0:\n",
    "    print('x')\n",
    "else d < 0:\n",
    "    print('Корней нет')"
   ]
  }
 ],
 "metadata": {
  "kernelspec": {
   "display_name": "Python 3",
   "language": "python",
   "name": "python3"
  },
  "language_info": {
   "codemirror_mode": {
    "name": "ipython",
    "version": 3
   },
   "file_extension": ".py",
   "mimetype": "text/x-python",
   "name": "python",
   "nbconvert_exporter": "python",
   "pygments_lexer": "ipython3",
   "version": "3.6.9"
  }
 },
 "nbformat": 4,
 "nbformat_minor": 2
}
