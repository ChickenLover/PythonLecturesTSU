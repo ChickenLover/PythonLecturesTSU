{
 "cells": [
  {
   "cell_type": "markdown",
   "metadata": {},
   "source": [
    "# Работа с файлами"
   ]
  },
  {
   "cell_type": "markdown",
   "metadata": {},
   "source": [
    "with open..."
   ]
  },
  {
   "cell_type": "markdown",
   "metadata": {},
   "source": [
    "`open(FILEPATH, OPENMODE)`  \n",
    "openmode:\n",
    " - 'w' - Открыть на запись (стирает файл если он уже существует)\n",
    " - 'r' - Открыть на чтение\n",
    " - 'a' - Открыть на дописывание (существующий файл не стирается)\n",
    " - 'b' - Чтение и запись ведется в байтах\n",
    " - (режимы можно комбинировать, например `rb`)"
   ]
  },
  {
   "cell_type": "markdown",
   "metadata": {},
   "source": [
    "## Запись"
   ]
  },
  {
   "cell_type": "code",
   "execution_count": 1,
   "metadata": {},
   "outputs": [],
   "source": [
    "with open('test.txt', 'w') as f:\n",
    "    f.write('Some text\\n') # обратите внимание на перенос строки (\\n)"
   ]
  },
  {
   "cell_type": "markdown",
   "metadata": {},
   "source": [
    "## Чтение"
   ]
  },
  {
   "cell_type": "code",
   "execution_count": 2,
   "metadata": {},
   "outputs": [
    {
     "name": "stdout",
     "output_type": "stream",
     "text": [
      "Some text\n",
      "\n"
     ]
    }
   ],
   "source": [
    "with open('test.txt', 'r') as f:\n",
    "    print(f.read())"
   ]
  },
  {
   "cell_type": "markdown",
   "metadata": {},
   "source": [
    "Читать можно построчно"
   ]
  },
  {
   "cell_type": "code",
   "execution_count": 3,
   "metadata": {},
   "outputs": [
    {
     "name": "stdout",
     "output_type": "stream",
     "text": [
      "apple\n",
      "\n",
      "banana\n",
      "\n",
      "cucumber\n",
      "\n",
      "dragon fruit\n",
      "\n"
     ]
    }
   ],
   "source": [
    "with open('test_multiline.txt', 'w') as f:\n",
    "    for fruit in ['apple', 'banana', 'cucumber', 'dragon fruit']:\n",
    "        f.write(fruit + '\\n')\n",
    "        \n",
    "with open('test_multiline.txt') as f: # 'r' можно опустить, т.к. это вариант по умолчанию\n",
    "    for line in f:\n",
    "        print(line)"
   ]
  },
  {
   "cell_type": "markdown",
   "metadata": {},
   "source": [
    "# Imports"
   ]
  },
  {
   "cell_type": "markdown",
   "metadata": {},
   "source": [
    "Одна из основных \"необходимостей\" в любом языке с высоким уровнем абстракции - переиспользование кода с помощью библиотек"
   ]
  },
  {
   "cell_type": "markdown",
   "metadata": {},
   "source": [
    "Обычно библиотеки, которые в питоне называются \"модулями\", подразделяются на 3 типа, по источнику их появления:\n",
    " - Стандартные модули (`collections`, `time`, `csv`, `json`, `datetime`, `string` и многие другие)\n",
    " - Внешние модули (ставятся с помощью `pip`) (`requests`, `pandas`, `numpy`...)\n",
    " - Собственные модули (написанные вами)"
   ]
  },
  {
   "cell_type": "code",
   "execution_count": 4,
   "metadata": {},
   "outputs": [],
   "source": [
    "import time"
   ]
  },
  {
   "cell_type": "code",
   "execution_count": 28,
   "metadata": {},
   "outputs": [
    {
     "data": {
      "text/plain": [
       "'Sat Nov  2 15:50:31 2019'"
      ]
     },
     "execution_count": 28,
     "metadata": {},
     "output_type": "execute_result"
    }
   ],
   "source": [
    "time.ctime()"
   ]
  },
  {
   "cell_type": "code",
   "execution_count": 30,
   "metadata": {},
   "outputs": [
    {
     "name": "stdout",
     "output_type": "stream",
     "text": [
      "1\n",
      "2\n",
      "4\n",
      "8\n",
      "16\n",
      "32\n",
      "64\n",
      "128\n",
      "256\n",
      "512\n"
     ]
    }
   ],
   "source": [
    "for i in range(10):\n",
    "    print(2 ** i)\n",
    "    time.sleep(0.5)"
   ]
  },
  {
   "cell_type": "code",
   "execution_count": 8,
   "metadata": {},
   "outputs": [],
   "source": [
    "import string"
   ]
  },
  {
   "cell_type": "code",
   "execution_count": 12,
   "metadata": {},
   "outputs": [
    {
     "name": "stdout",
     "output_type": "stream",
     "text": [
      "abcdefghijklmnopqrstuvwxyzABCDEFGHIJKLMNOPQRSTUVWXYZ\n",
      "abcdefghijklmnopqrstuvwxyz\n",
      "ABCDEFGHIJKLMNOPQRSTUVWXYZ\n"
     ]
    }
   ],
   "source": [
    "print(string.ascii_letters)\n",
    "print(string.ascii_lowercase)\n",
    "print(string.ascii_uppercase)"
   ]
  },
  {
   "cell_type": "code",
   "execution_count": 13,
   "metadata": {},
   "outputs": [],
   "source": [
    "import collections"
   ]
  },
  {
   "cell_type": "code",
   "execution_count": 17,
   "metadata": {},
   "outputs": [
    {
     "name": "stdout",
     "output_type": "stream",
     "text": [
      "default_dict at start defaultdict(<class 'int'>, {})\n",
      "The value of key \"apple\" is 0\n",
      "default_dict at start defaultdict(<class 'int'>, {'Non-existing key': 1, 'apple': 0})\n"
     ]
    }
   ],
   "source": [
    "smart_dict = collections.defaultdict(int)\n",
    "print('default_dict at start', smart_dict)\n",
    "smart_dict['Non-existing key'] += 1\n",
    "print('The value of key \"apple\" is', smart_dict['apple'])\n",
    "print('default_dict at start', smart_dict)"
   ]
  },
  {
   "cell_type": "code",
   "execution_count": 99,
   "metadata": {
    "scrolled": true
   },
   "outputs": [
    {
     "name": "stdout",
     "output_type": "stream",
     "text": [
      "Counter({2: 4, 8: 3, 1: 2, 3: 2, 4: 2, 5: 2, 9: 2, 6: 1, 7: 1, 10: 1})\n",
      "Number of two's = 4\n",
      "Number of four's = 2\n",
      "Number of one's = 2\n",
      "The history saving thread hit an unexpected error (OperationalError('attempt to write a readonly database',)).History will not be written to the database.\n"
     ]
    }
   ],
   "source": [
    "data = [1, 2, 3, 4, 2, 1, 2, 3, 4, 2, 5, 5, 6, 7, 8, 9, 8, 8, 9, 10]\n",
    "\n",
    "counter = collections.Counter(data)\n",
    "print(counter)\n",
    "print('Number of two\\'s =', counter[2])\n",
    "print('Number of four\\'s =', counter[4])\n",
    "print('Number of one\\'s =', counter[1])"
   ]
  },
  {
   "cell_type": "code",
   "execution_count": 100,
   "metadata": {},
   "outputs": [],
   "source": [
    "import json"
   ]
  },
  {
   "cell_type": "code",
   "execution_count": 101,
   "metadata": {},
   "outputs": [],
   "source": [
    "some_complex_dict = {\n",
    "    'a': [1, 2, 3],\n",
    "    'b': 'banana',\n",
    "    'c': {\n",
    "        'id': 1,\n",
    "        'hometown': {\n",
    "            'title': 'Tomsk',\n",
    "            'id': 37\n",
    "        }\n",
    "    }\n",
    "}\n",
    "\n",
    "with open('saved.json', 'w') as f:\n",
    "    json.dump(some_complex_dict, f)"
   ]
  },
  {
   "cell_type": "code",
   "execution_count": 102,
   "metadata": {},
   "outputs": [
    {
     "name": "stdout",
     "output_type": "stream",
     "text": [
      "{'a': [1, 2, 3], 'b': 'banana', 'c': {'id': 1, 'hometown': {'title': 'Tomsk', 'id': 37}}}\n"
     ]
    }
   ],
   "source": [
    "with open('saved.json') as f:\n",
    "    print(json.load(f))"
   ]
  },
  {
   "cell_type": "code",
   "execution_count": 23,
   "metadata": {},
   "outputs": [],
   "source": [
    "import csv"
   ]
  },
  {
   "cell_type": "code",
   "execution_count": 24,
   "metadata": {},
   "outputs": [],
   "source": [
    "data = [\n",
    "    (1, 2, 'Roman', False, 'Tomsk'),\n",
    "    (1, 2, 'Masha', True, 'Tomsk'),\n",
    "]\n",
    "\n",
    "with open('important_data.csv', 'w') as f:\n",
    "    writer = csv.writer(f)\n",
    "    for row in data:\n",
    "        writer.writerow(row)"
   ]
  },
  {
   "cell_type": "code",
   "execution_count": 103,
   "metadata": {},
   "outputs": [
    {
     "name": "stdout",
     "output_type": "stream",
     "text": [
      "['1', '2', 'Roman', 'False', 'Tomsk']\n",
      "['1', '2', 'Masha', 'True', 'Tomsk']\n"
     ]
    }
   ],
   "source": [
    "with open('important_data.csv') as f:\n",
    "    reader = csv.reader(f)\n",
    "    for row in reader:\n",
    "        print(row)"
   ]
  },
  {
   "cell_type": "code",
   "execution_count": 104,
   "metadata": {},
   "outputs": [],
   "source": [
    "import datetime"
   ]
  },
  {
   "cell_type": "code",
   "execution_count": 36,
   "metadata": {},
   "outputs": [
    {
     "data": {
      "text/plain": [
       "datetime.datetime(2019, 11, 2, 15, 53, 54, 967973)"
      ]
     },
     "execution_count": 36,
     "metadata": {},
     "output_type": "execute_result"
    }
   ],
   "source": [
    "datetime.datetime.today()"
   ]
  },
  {
   "cell_type": "code",
   "execution_count": 105,
   "metadata": {},
   "outputs": [],
   "source": [
    "import random"
   ]
  },
  {
   "cell_type": "code",
   "execution_count": 158,
   "metadata": {},
   "outputs": [
    {
     "name": "stdout",
     "output_type": "stream",
     "text": [
      "I guessed a number 7\n",
      "I think i'll have a dragon fruit for lunch today!\n"
     ]
    }
   ],
   "source": [
    "print('I guessed a number', random.randint(1, 10))\n",
    "random_fruit = random.choice(['apple', 'banana', 'cucumber', 'dragon fruit', 'grape'])\n",
    "print('I think i\\'ll have a {} for lunch today!'.format(random_fruit))"
   ]
  },
  {
   "cell_type": "code",
   "execution_count": 159,
   "metadata": {},
   "outputs": [],
   "source": [
    "import math # Who doesn't like a little math, right?"
   ]
  },
  {
   "cell_type": "code",
   "execution_count": 160,
   "metadata": {},
   "outputs": [
    {
     "name": "stdout",
     "output_type": "stream",
     "text": [
      "cos(pi) = -1.0\n",
      "sin(pi) = 1.2246467991473532e-16\n"
     ]
    }
   ],
   "source": [
    "radians = math.pi\n",
    "print('cos(pi) =', math.cos(radians))\n",
    "print('sin(pi) =', math.sin(radians))"
   ]
  },
  {
   "cell_type": "code",
   "execution_count": 83,
   "metadata": {},
   "outputs": [],
   "source": [
    "import itertools # Check it out, really powerful stuff!"
   ]
  },
  {
   "cell_type": "code",
   "execution_count": 161,
   "metadata": {},
   "outputs": [
    {
     "name": "stdout",
     "output_type": "stream",
     "text": [
      "The 1 of May is Monday\n",
      "The 2 of May is Tuesday\n",
      "The 3 of May is Wednesday\n",
      "The 4 of May is Thursday\n",
      "The 5 of May is Friday\n",
      "The 6 of May is Saturday\n",
      "The 7 of May is Sunday\n",
      "The 8 of May is Monday\n",
      "The 9 of May is Tuesday\n",
      "The 10 of May is Wednesday\n",
      "The 11 of May is Thursday\n",
      "The 12 of May is Friday\n",
      "The 13 of May is Saturday\n",
      "The 14 of May is Sunday\n",
      "The 15 of May is Monday\n",
      "The 16 of May is Tuesday\n",
      "The 17 of May is Wednesday\n",
      "The 18 of May is Thursday\n",
      "The 19 of May is Friday\n",
      "The 20 of May is Saturday\n",
      "The 21 of May is Sunday\n",
      "The 22 of May is Monday\n",
      "The 23 of May is Tuesday\n",
      "The 24 of May is Wednesday\n",
      "The 25 of May is Thursday\n",
      "The 26 of May is Friday\n",
      "The 27 of May is Saturday\n",
      "The 28 of May is Sunday\n",
      "The 29 of May is Monday\n",
      "The 30 of May is Tuesday\n"
     ]
    }
   ],
   "source": [
    "week = ['Monday', 'Tuesday', 'Wednesday', 'Thursday', 'Friday', 'Saturday', 'Sunday']\n",
    "for i, day_of_the_weak in enumerate(itertools.cycle(week), 1):\n",
    "    if i > 30:\n",
    "        break\n",
    "    print('The {} of May is {}'.format(i, day_of_the_weak))"
   ]
  },
  {
   "cell_type": "code",
   "execution_count": 162,
   "metadata": {},
   "outputs": [
    {
     "name": "stdout",
     "output_type": "stream",
     "text": [
      "There is 120 anagrams to a word \"apple\"\n",
      "The first 10 of them are:\n",
      "apple\n",
      "appel\n",
      "aplpe\n",
      "aplep\n",
      "apepl\n",
      "apelp\n",
      "apple\n",
      "appel\n",
      "aplpe\n",
      "aplep\n"
     ]
    }
   ],
   "source": [
    "appletations = itertools.permutations('apple')\n",
    "calculated = list(appletations)\n",
    "print('There is {} anagrams to a word \"apple\"'.format(len(calculated)))\n",
    "print('The first 10 of them are:')\n",
    "for anagram in calculated[:10]:\n",
    "    print(''.join(anagram))"
   ]
  },
  {
   "cell_type": "markdown",
   "metadata": {},
   "source": [
    "## Невошедшее"
   ]
  },
  {
   "cell_type": "markdown",
   "metadata": {},
   "source": [
    " - `os.path` - работа с путями в файловой системе\n",
    " - `os` - работа с операционной системой\n",
    " - `sys` - полезная вещь\n",
    " - `argparse` - создание Command Line Interface\n",
    " - `base64`, `hashlib`, `secrets` - кодировки, хеширование и шифрование"
   ]
  },
  {
   "cell_type": "markdown",
   "metadata": {},
   "source": [
    "# Обработка ошибок"
   ]
  },
  {
   "cell_type": "markdown",
   "metadata": {},
   "source": [
    "Простейший вариант"
   ]
  },
  {
   "cell_type": "code",
   "execution_count": 163,
   "metadata": {},
   "outputs": [
    {
     "name": "stdout",
     "output_type": "stream",
     "text": [
      "Out of bounds!\n"
     ]
    }
   ],
   "source": [
    "data = [1, 2, 3]\n",
    "\n",
    "try:\n",
    "    print(data[3])\n",
    "except:\n",
    "    print('Out of bounds!')"
   ]
  },
  {
   "cell_type": "markdown",
   "metadata": {},
   "source": [
    "Встречайте класс `Exception`"
   ]
  },
  {
   "cell_type": "code",
   "execution_count": 164,
   "metadata": {},
   "outputs": [
    {
     "name": "stdout",
     "output_type": "stream",
     "text": [
      "Error!\n"
     ]
    }
   ],
   "source": [
    "exc = Exception('Error!')\n",
    "print(exc)"
   ]
  },
  {
   "cell_type": "code",
   "execution_count": 165,
   "metadata": {},
   "outputs": [
    {
     "name": "stdout",
     "output_type": "stream",
     "text": [
      "division by zero <class 'ZeroDivisionError'>\n"
     ]
    }
   ],
   "source": [
    "try:\n",
    "    print(3/0)\n",
    "except Exception as e:\n",
    "    print(e, type(e))"
   ]
  },
  {
   "cell_type": "code",
   "execution_count": 166,
   "metadata": {},
   "outputs": [
    {
     "name": "stdout",
     "output_type": "stream",
     "text": [
      "list index out of range <class 'IndexError'>\n"
     ]
    }
   ],
   "source": [
    "try:\n",
    "    data = [1, 2, 3]\n",
    "    data[3]\n",
    "except Exception as e:\n",
    "    print(e, type(e))"
   ]
  },
  {
   "cell_type": "code",
   "execution_count": 167,
   "metadata": {},
   "outputs": [
    {
     "name": "stdout",
     "output_type": "stream",
     "text": [
      "invalid literal for int() with base 10: 'three' <class 'ValueError'>\n"
     ]
    }
   ],
   "source": [
    "try:\n",
    "    int('1')\n",
    "    int('2')\n",
    "    int('three')\n",
    "except Exception as e:\n",
    "    print(e, type(e))"
   ]
  },
  {
   "cell_type": "markdown",
   "metadata": {},
   "source": [
    "Вы можете кидать собственные ошибки!"
   ]
  },
  {
   "cell_type": "code",
   "execution_count": 168,
   "metadata": {},
   "outputs": [],
   "source": [
    "user_input = '3asd'\n",
    "\n",
    "def add_one(string):\n",
    "    try:\n",
    "        number = int(string)\n",
    "    except:\n",
    "        raise Exception('You must pass in a number-like data!')\n",
    "    return number + 1"
   ]
  },
  {
   "cell_type": "code",
   "execution_count": 169,
   "metadata": {},
   "outputs": [
    {
     "data": {
      "text/plain": [
       "2"
      ]
     },
     "execution_count": 169,
     "metadata": {},
     "output_type": "execute_result"
    }
   ],
   "source": [
    "add_one('1')"
   ]
  },
  {
   "cell_type": "code",
   "execution_count": 170,
   "metadata": {},
   "outputs": [
    {
     "data": {
      "text/plain": [
       "3"
      ]
     },
     "execution_count": 170,
     "metadata": {},
     "output_type": "execute_result"
    }
   ],
   "source": [
    "add_one('2')"
   ]
  },
  {
   "cell_type": "code",
   "execution_count": 171,
   "metadata": {},
   "outputs": [
    {
     "ename": "Exception",
     "evalue": "You must pass in a number-like data!",
     "output_type": "error",
     "traceback": [
      "\u001b[0;31m---------------------------------------------------------------------------\u001b[0m",
      "\u001b[0;31mValueError\u001b[0m                                Traceback (most recent call last)",
      "\u001b[0;32m<ipython-input-168-90d76bcb4ba1>\u001b[0m in \u001b[0;36madd_one\u001b[0;34m(string)\u001b[0m\n\u001b[1;32m      4\u001b[0m     \u001b[0;32mtry\u001b[0m\u001b[0;34m:\u001b[0m\u001b[0;34m\u001b[0m\u001b[0;34m\u001b[0m\u001b[0m\n\u001b[0;32m----> 5\u001b[0;31m         \u001b[0mnumber\u001b[0m \u001b[0;34m=\u001b[0m \u001b[0mint\u001b[0m\u001b[0;34m(\u001b[0m\u001b[0mstring\u001b[0m\u001b[0;34m)\u001b[0m\u001b[0;34m\u001b[0m\u001b[0;34m\u001b[0m\u001b[0m\n\u001b[0m\u001b[1;32m      6\u001b[0m     \u001b[0;32mexcept\u001b[0m\u001b[0;34m:\u001b[0m\u001b[0;34m\u001b[0m\u001b[0;34m\u001b[0m\u001b[0m\n",
      "\u001b[0;31mValueError\u001b[0m: invalid literal for int() with base 10: 'three'",
      "\nDuring handling of the above exception, another exception occurred:\n",
      "\u001b[0;31mException\u001b[0m                                 Traceback (most recent call last)",
      "\u001b[0;32m<ipython-input-171-a06f7a0ccfd8>\u001b[0m in \u001b[0;36m<module>\u001b[0;34m\u001b[0m\n\u001b[0;32m----> 1\u001b[0;31m \u001b[0madd_one\u001b[0m\u001b[0;34m(\u001b[0m\u001b[0;34m'three'\u001b[0m\u001b[0;34m)\u001b[0m\u001b[0;34m\u001b[0m\u001b[0;34m\u001b[0m\u001b[0m\n\u001b[0m",
      "\u001b[0;32m<ipython-input-168-90d76bcb4ba1>\u001b[0m in \u001b[0;36madd_one\u001b[0;34m(string)\u001b[0m\n\u001b[1;32m      5\u001b[0m         \u001b[0mnumber\u001b[0m \u001b[0;34m=\u001b[0m \u001b[0mint\u001b[0m\u001b[0;34m(\u001b[0m\u001b[0mstring\u001b[0m\u001b[0;34m)\u001b[0m\u001b[0;34m\u001b[0m\u001b[0;34m\u001b[0m\u001b[0m\n\u001b[1;32m      6\u001b[0m     \u001b[0;32mexcept\u001b[0m\u001b[0;34m:\u001b[0m\u001b[0;34m\u001b[0m\u001b[0;34m\u001b[0m\u001b[0m\n\u001b[0;32m----> 7\u001b[0;31m         \u001b[0;32mraise\u001b[0m \u001b[0mException\u001b[0m\u001b[0;34m(\u001b[0m\u001b[0;34m'You must pass in a number-like data!'\u001b[0m\u001b[0;34m)\u001b[0m\u001b[0;34m\u001b[0m\u001b[0;34m\u001b[0m\u001b[0m\n\u001b[0m\u001b[1;32m      8\u001b[0m     \u001b[0;32mreturn\u001b[0m \u001b[0mnumber\u001b[0m \u001b[0;34m+\u001b[0m \u001b[0;36m1\u001b[0m\u001b[0;34m\u001b[0m\u001b[0;34m\u001b[0m\u001b[0m\n",
      "\u001b[0;31mException\u001b[0m: You must pass in a number-like data!"
     ]
    }
   ],
   "source": [
    "add_one('three')"
   ]
  }
 ],
 "metadata": {
  "kernelspec": {
   "display_name": "Python 3",
   "language": "python",
   "name": "python3"
  },
  "language_info": {
   "codemirror_mode": {
    "name": "ipython",
    "version": 3
   },
   "file_extension": ".py",
   "mimetype": "text/x-python",
   "name": "python",
   "nbconvert_exporter": "python",
   "pygments_lexer": "ipython3",
   "version": "3.6.8"
  }
 },
 "nbformat": 4,
 "nbformat_minor": 2
}
